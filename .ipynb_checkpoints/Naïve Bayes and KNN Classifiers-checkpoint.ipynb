{
 "cells": [
  {
   "cell_type": "markdown",
   "metadata": {},
   "source": [
    "# Problem2: naïve Bayes Classifiers"
   ]
  },
  {
   "cell_type": "code",
   "execution_count": 1,
   "metadata": {},
   "outputs": [],
   "source": [
    "import pandas as pd\n",
    "import matplotlib.pyplot as plt\n",
    "import math\n",
    "import statistics\n",
    "from pandas.plotting import scatter_matrix\n",
    "from sklearn.model_selection import train_test_split\n",
    "import seaborn as sb\n",
    "import operator"
   ]
  },
  {
   "cell_type": "markdown",
   "metadata": {},
   "source": [
    "### 1- Load the data from CSV file."
   ]
  },
  {
   "cell_type": "code",
   "execution_count": 2,
   "metadata": {},
   "outputs": [],
   "source": [
    "iris = pd.read_csv('iris.csv')"
   ]
  },
  {
   "cell_type": "markdown",
   "metadata": {},
   "source": [
    "### 2- Shuffle and split the dataset into training and test datasets"
   ]
  },
  {
   "cell_type": "code",
   "execution_count": 3,
   "metadata": {
    "scrolled": true
   },
   "outputs": [],
   "source": [
    "train, test = train_test_split(iris, test_size=0.3, shuffle = True)"
   ]
  },
  {
   "cell_type": "markdown",
   "metadata": {},
   "source": [
    "### 3- Split training data by class, compute the mean vector and variance of the feature in each class."
   ]
  },
  {
   "cell_type": "code",
   "execution_count": 4,
   "metadata": {},
   "outputs": [],
   "source": [
    "means = train.groupby('species').mean()\n",
    "variances = train.groupby('species').var()"
   ]
  },
  {
   "cell_type": "markdown",
   "metadata": {},
   "source": [
    "### 4- Calculate the prior probabilities and Gaussian probability distribution for each features and class."
   ]
  },
  {
   "cell_type": "code",
   "execution_count": 5,
   "metadata": {},
   "outputs": [
    {
     "data": {
      "text/plain": [
       "setosa        0.342857\n",
       "versicolor    0.333333\n",
       "virginica     0.323810\n",
       "Name: species, dtype: float64"
      ]
     },
     "execution_count": 5,
     "metadata": {},
     "output_type": "execute_result"
    }
   ],
   "source": [
    "# Compute the likelyhood using Gaussian probability density function\n",
    "const = (1/math.sqrt(2*math.pi))\n",
    "factor = const*(1/(variances**0.5))\n",
    "exp_denominator = 2*(variances)\n",
    "\n",
    "def likelihood(x, features, class_name): # x is the example\n",
    "    # Initialize the value by 1\n",
    "    likelihood_value = 1\n",
    "    \n",
    "    # Compute the likelihood for each feature given the class\n",
    "    for feature in features:\n",
    "        likelihood_value = (likelihood_value)*factor[feature][class_name]*math.exp(-((x[feature]-means[feature][class_name])**2)/exp_denominator[feature][class_name])\n",
    "    return likelihood_value\n",
    "\n",
    "# Compute prior by counting the frquency of each class and divide it by the dataset size\n",
    "prior = train.species.value_counts()/len(train)  \n",
    "prior"
   ]
  },
  {
   "cell_type": "markdown",
   "metadata": {},
   "source": [
    "###### The data is unbalanced so we'll use the maximum posterior, not only maximum likelihood"
   ]
  },
  {
   "cell_type": "code",
   "execution_count": 6,
   "metadata": {},
   "outputs": [],
   "source": [
    "# Find the posterior by computing likelihood*prior \n",
    "def posterior(x, features, class_name):\n",
    "    return likelihood(x, features, class_name)*prior[class_name]"
   ]
  },
  {
   "cell_type": "code",
   "execution_count": 7,
   "metadata": {},
   "outputs": [],
   "source": [
    "# This function will predict the class of a given example based on the training set values (means and variances)\n",
    "def predict_class(x,features,classes):\n",
    "    posterior_values = {}\n",
    "    for class_name in classes:\n",
    "        posterior_values.update({class_name:posterior(x, features, class_name)})\n",
    "    return max(posterior_values.items(), key=operator.itemgetter(1))[0]  #return the class_name with the maximum posterior value"
   ]
  },
  {
   "cell_type": "markdown",
   "metadata": {},
   "source": [
    "### 5- Make prediction on the testing set."
   ]
  },
  {
   "cell_type": "code",
   "execution_count": 8,
   "metadata": {
    "scrolled": true
   },
   "outputs": [],
   "source": [
    "prediction = []\n",
    "features = test.columns.values[:-1]\n",
    "classes = test.species.unique()\n",
    "\n",
    "for i in range(len(test)):\n",
    "    predicted_class = predict_class(test.iloc[i,:-1], features, classes)\n",
    "    prediction.append(predicted_class)\n",
    "    \n",
    "prediction = pd.Series(prediction, index = test.index)"
   ]
  },
  {
   "cell_type": "markdown",
   "metadata": {},
   "source": [
    "### 6- Compute the accuracy, precision, and recall."
   ]
  },
  {
   "cell_type": "markdown",
   "metadata": {},
   "source": [
    "###### This function will compute the accuracy,precision, and recall. Given the test and prediction values."
   ]
  },
  {
   "cell_type": "code",
   "execution_count": 9,
   "metadata": {},
   "outputs": [],
   "source": [
    "def Compute_accuracy(y_test,y_predict,classes):\n",
    "    length = len(classes)\n",
    "    percision = []\n",
    "    recall = []\n",
    "    for i in range(length):\n",
    "        true_prediction = sum((y_test == y_predict) & (y_test == classes[i]))\n",
    "        total_predicted = sum(y_predict == classes[i])\n",
    "        percision.append(true_prediction*100/total_predicted)\n",
    "        \n",
    "        total_actual = sum(y_test == classes[i])\n",
    "        recall.append(true_prediction*100/total_actual)\n",
    "    \n",
    "    accuracy = sum(y_test == y_predict)*100/len(y_test)\n",
    "    return accuracy, percision, recall"
   ]
  },
  {
   "cell_type": "markdown",
   "metadata": {},
   "source": [
    "###### This function will print accuracy, precision, and recall in a formatted way"
   ]
  },
  {
   "cell_type": "code",
   "execution_count": 10,
   "metadata": {},
   "outputs": [],
   "source": [
    "def print_accuracy(classes, accuracy, percision, recall):\n",
    "    print(\"precision = %.2f%%\" % statistics.mean(percision))\n",
    "    print(\"recall = %.2f%%\" % statistics.mean(recall))\n",
    "    print(\"accuracy = %.2f%%\" %accuracy)"
   ]
  },
  {
   "cell_type": "markdown",
   "metadata": {},
   "source": [
    "###### Compute the accuracy, precision, and recall of the prediction resulted from the naive bayes classifiers, and print it."
   ]
  },
  {
   "cell_type": "code",
   "execution_count": 11,
   "metadata": {
    "scrolled": true
   },
   "outputs": [
    {
     "name": "stdout",
     "output_type": "stream",
     "text": [
      "precision = 95.69%\n",
      "recall = 95.69%\n",
      "accuracy = 95.56%\n"
     ]
    }
   ],
   "source": [
    "y_test = test[test.columns[-1]] #The target values in the testing dataset\n",
    "accuracy, percision, recall = Compute_accuracy(y_test, prediction, classes)\n",
    "print_accuracy(classes, accuracy, percision, recall)"
   ]
  },
  {
   "cell_type": "code",
   "execution_count": 12,
   "metadata": {},
   "outputs": [
    {
     "name": "stdout",
     "output_type": "stream",
     "text": [
      "precision = 0.9569%\n",
      "recall = 0.9569%\n",
      "accuracy = 0.9556%\n"
     ]
    }
   ],
   "source": [
    "from sklearn.metrics import accuracy_score\n",
    "from sklearn.metrics import precision_score\n",
    "from sklearn.metrics import recall_score\n",
    "\n",
    "print(\"precision = %.4f%%\" % precision_score(test[test.columns[-1]], prediction, average='macro'))\n",
    "print(\"recall = %.4f%%\" % recall_score(test[test.columns[-1]], prediction, average='macro'))\n",
    "print(\"accuracy = %.4f%%\" % accuracy_score(test[test.columns[-1]], prediction))"
   ]
  },
  {
   "cell_type": "markdown",
   "metadata": {},
   "source": [
    "### 7- Plot a scatter plot of the data, coloring each data point by its class."
   ]
  },
  {
   "cell_type": "code",
   "execution_count": 13,
   "metadata": {},
   "outputs": [
    {
     "data": {
      "image/png": "[encoded data removed]",
      "text/plain": [
       "<Figure size 804.75x720 with 20 Axes>"
      ]
     },
     "metadata": {
      "needs_background": "light"
     },
     "output_type": "display_data"
    }
   ],
   "source": [
    "features = iris.columns[:-1].tolist()\n",
    "ax = sb.pairplot(iris ,x_vars=features, y_vars=features, palette=\"husl\", hue = 'species', kind='scatter');"
   ]
  },
  {
   "cell_type": "markdown",
   "metadata": {},
   "source": [
    "# Problem 3: KNN Classifier"
   ]
  },
  {
   "cell_type": "code",
   "execution_count": 14,
   "metadata": {},
   "outputs": [],
   "source": [
    "import pandas as pd\n",
    "import math\n",
    "from sklearn.model_selection import train_test_split\n",
    "from sklearn.metrics import precision_score\n",
    "from sklearn.metrics import recall_score\n",
    "from sklearn.metrics import accuracy_score\n",
    "import statistics"
   ]
  },
  {
   "cell_type": "markdown",
   "metadata": {},
   "source": [
    "### 1- Load the dataset from CSV file."
   ]
  },
  {
   "cell_type": "code",
   "execution_count": 15,
   "metadata": {},
   "outputs": [],
   "source": [
    "iris = pd.read_csv('iris.csv')"
   ]
  },
  {
   "cell_type": "markdown",
   "metadata": {},
   "source": [
    "###### Specify the target feature"
   ]
  },
  {
   "cell_type": "code",
   "execution_count": 16,
   "metadata": {},
   "outputs": [],
   "source": [
    "features = iris[iris.columns[:-1].tolist()]\n",
    "target = iris[\"species\"]"
   ]
  },
  {
   "cell_type": "markdown",
   "metadata": {},
   "source": [
    "### 2- Divide the dataset into training and testing.\n",
    "###### Training phase in KNN: includes storing the training dataset only"
   ]
  },
  {
   "cell_type": "code",
   "execution_count": 17,
   "metadata": {},
   "outputs": [],
   "source": [
    "X_train, X_test, y_train, y_test = train_test_split(features, target, test_size=0.3)"
   ]
  },
  {
   "cell_type": "markdown",
   "metadata": {},
   "source": [
    "### 3- Train the KNN algorithm.\n",
    "###### Define the functions that help in training the KNN algorithm"
   ]
  },
  {
   "cell_type": "markdown",
   "metadata": {},
   "source": [
    "1- Compute similarity, for a given xq and every xi on a specific training set"
   ]
  },
  {
   "cell_type": "code",
   "execution_count": 18,
   "metadata": {},
   "outputs": [],
   "source": [
    "# Since all features values are continous, we use ecluidian distance\n",
    "# The less is the difference, the more is the similarity\n",
    "def compute_similarity(training_set, xq):\n",
    "    square_diff = (training_set - xq)**2\n",
    "    return square_diff.sum(axis=1)"
   ]
  },
  {
   "cell_type": "markdown",
   "metadata": {},
   "source": [
    "2- Get the indexes of the k nearst neighbours, which can be found by taking the k minimum distances  "
   ]
  },
  {
   "cell_type": "code",
   "execution_count": 19,
   "metadata": {},
   "outputs": [],
   "source": [
    "def Get_neighbours(k, distance):\n",
    "    distance = pd.DataFrame(distance, columns = ['distance'])\n",
    "    return distance.nsmallest(k,'distance').index"
   ]
  },
  {
   "cell_type": "markdown",
   "metadata": {},
   "source": [
    "3- Find the most dominant class in the k nearest neighoubr"
   ]
  },
  {
   "cell_type": "code",
   "execution_count": 20,
   "metadata": {},
   "outputs": [],
   "source": [
    "def Compute_argmax(y_training_set, index_list):\n",
    "    return y_training_set[index_list].mode()[0]"
   ]
  },
  {
   "cell_type": "markdown",
   "metadata": {},
   "source": [
    "### 4- Test the algorithm on the test dataset with different values of k=1,3,5,10.\n",
    "### 5- Report the accuracy, precision, and recall."
   ]
  },
  {
   "cell_type": "markdown",
   "metadata": {},
   "source": [
    "###### Testing phase: Apply KNN on all the example in the testing set, store the predictions on y_predict, The training phase in KNN includes only storing the data"
   ]
  },
  {
   "cell_type": "code",
   "execution_count": 21,
   "metadata": {},
   "outputs": [],
   "source": [
    "def KNN(k,X_train, X_test, y_train, y_test):\n",
    "    length = X_test.shape[0]\n",
    "    y_predict = []\n",
    "    for i in range(length):\n",
    "        distance = compute_similarity(X_train, X_test.iloc[i,:])\n",
    "        index_list = Get_neighbours(k, distance)\n",
    "        predict_class = Compute_argmax(y_train, index_list)\n",
    "        y_predict.append(predict_class)\n",
    "    return pd.Series(y_predict, index = y_test.index)"
   ]
  },
  {
   "cell_type": "markdown",
   "metadata": {},
   "source": [
    "###### This function will compute the accuracy,precision, and recall. Given the test and prediction values."
   ]
  },
  {
   "cell_type": "code",
   "execution_count": 22,
   "metadata": {},
   "outputs": [],
   "source": [
    "def Compute_accuracy(y_test,y_predict,classes):\n",
    "    length = len(classes)\n",
    "    percision = []\n",
    "    recall = []\n",
    "    for i in range(length):\n",
    "        true_prediction = sum((y_test == y_predict) & (y_test == classes[i]))\n",
    "        total_predicted = sum(y_predict == classes[i])\n",
    "        percision.append(true_prediction*100/total_predicted)\n",
    "        \n",
    "        total_actual = sum(y_test == classes[i])\n",
    "        recall.append(true_prediction*100/total_actual)\n",
    "    \n",
    "    accuracy = sum(y_test == y_predict)*100/len(y_test)\n",
    "    return accuracy, percision, recall"
   ]
  },
  {
   "cell_type": "markdown",
   "metadata": {},
   "source": [
    "###### This function will print accuracy, precision, and recall in a formatted way"
   ]
  },
  {
   "cell_type": "code",
   "execution_count": 23,
   "metadata": {},
   "outputs": [],
   "source": [
    "def print_accuracy(classes, accuracy, percision, recall):\n",
    "    print(\"precision = %.2f%%\" % statistics.mean(percision))\n",
    "    print(\"recall = %.2f%%\" % statistics.mean(recall))\n",
    "    print(\"accuracy = %.2f%%\" %accuracy)"
   ]
  },
  {
   "cell_type": "markdown",
   "metadata": {},
   "source": [
    "##### Test the algorithm with k=1,3,5,10 and report the accuracy, percision, and recall"
   ]
  },
  {
   "cell_type": "markdown",
   "metadata": {},
   "source": [
    "###### Case1: k=1"
   ]
  },
  {
   "cell_type": "code",
   "execution_count": 24,
   "metadata": {},
   "outputs": [
    {
     "name": "stdout",
     "output_type": "stream",
     "text": [
      "precision = 98.48%\n",
      "recall = 96.67%\n",
      "accuracy = 97.78%\n"
     ]
    }
   ],
   "source": [
    "y_predict_k1 = KNN(1,X_train, X_test, y_train, y_test)\n",
    "classes = y_train.unique()\n",
    "accuracy, percision, recall = Compute_accuracy(y_test,y_predict_k1,classes)\n",
    "print_accuracy(classes,accuracy, percision, recall)"
   ]
  },
  {
   "cell_type": "markdown",
   "metadata": {},
   "source": [
    "###### Case2: k=3"
   ]
  },
  {
   "cell_type": "code",
   "execution_count": 25,
   "metadata": {},
   "outputs": [
    {
     "name": "stdout",
     "output_type": "stream",
     "text": [
      "precision = 94.44%\n",
      "recall = 96.83%\n",
      "accuracy = 95.56%\n"
     ]
    }
   ],
   "source": [
    "y_predict_k3 = KNN(3,X_train, X_test, y_train, y_test)\n",
    "accuracy, percision, recall = Compute_accuracy(y_test,y_predict_k3,classes)\n",
    "print_accuracy(classes,accuracy, percision, recall)"
   ]
  },
  {
   "cell_type": "markdown",
   "metadata": {},
   "source": [
    "###### Case3: k=5"
   ]
  },
  {
   "cell_type": "code",
   "execution_count": 26,
   "metadata": {
    "scrolled": true
   },
   "outputs": [
    {
     "name": "stdout",
     "output_type": "stream",
     "text": [
      "precision = 95.08%\n",
      "recall = 95.08%\n",
      "accuracy = 95.56%\n"
     ]
    }
   ],
   "source": [
    "y_predict_k5 = KNN(5,X_train, X_test, y_train, y_test)\n",
    "accuracy, percision, recall = Compute_accuracy(y_test,y_predict_k5,classes)\n",
    "print_accuracy(classes,accuracy, percision, recall)"
   ]
  },
  {
   "cell_type": "markdown",
   "metadata": {},
   "source": [
    "###### Case4: k=10"
   ]
  },
  {
   "cell_type": "code",
   "execution_count": 27,
   "metadata": {},
   "outputs": [
    {
     "name": "stdout",
     "output_type": "stream",
     "text": [
      "precision = 98.48%\n",
      "recall = 96.67%\n",
      "accuracy = 97.78%\n"
     ]
    }
   ],
   "source": [
    "y_predict_k10 = KNN(10,X_train, X_test, y_train, y_test)\n",
    "accuracy, percision, recall = Compute_accuracy(y_test,y_predict_k10,classes)\n",
    "print_accuracy(classes,accuracy, percision, recall)"
   ]
  },
  {
   "cell_type": "markdown",
   "metadata": {},
   "source": [
    "### 6- Report k that gives the highest accuracy.\n",
    "From the values above, we found that k=1 and k=10 gives the highest accuracy."
   ]
  },
  {
   "cell_type": "markdown",
   "metadata": {},
   "source": [
    "## Below is KNN computed via sklearn libraries, to compare the results"
   ]
  },
  {
   "cell_type": "markdown",
   "metadata": {},
   "source": [
    "###### Case1: k=1"
   ]
  },
  {
   "cell_type": "code",
   "execution_count": 28,
   "metadata": {},
   "outputs": [
    {
     "name": "stdout",
     "output_type": "stream",
     "text": [
      "number of incorrect predictions =  0\n",
      "precision = 0.9848\n",
      "recall = 0.9667\n",
      "accuracy = 0.9778\n"
     ]
    }
   ],
   "source": [
    "from sklearn.neighbors import KNeighborsClassifier\n",
    "neighbor = KNeighborsClassifier(n_neighbors = 1)\n",
    "neighbor.fit(X_train,y_train)\n",
    "\n",
    "predicted = neighbor.predict(X_test)\n",
    "print(\"number of incorrect predictions = \", sum(~(predicted == y_predict_k1))) #detect if there's a wrong prediction\n",
    "print(\"precision = %.4f\" % precision_score(y_test, predicted, average='macro'))\n",
    "print(\"recall = %.4f\" % recall_score(y_test, predicted, average='macro'))\n",
    "print(\"accuracy = %.4f\" % accuracy_score(y_test, predicted))"
   ]
  },
  {
   "cell_type": "markdown",
   "metadata": {},
   "source": [
    "###### Case2: k=3"
   ]
  },
  {
   "cell_type": "code",
   "execution_count": 29,
   "metadata": {},
   "outputs": [
    {
     "name": "stdout",
     "output_type": "stream",
     "text": [
      "number of incorrect predictions =  1\n",
      "precision = 0.9697\n",
      "recall = 0.9841\n",
      "accuracy = 0.9778\n"
     ]
    }
   ],
   "source": [
    "neighbor = KNeighborsClassifier(n_neighbors = 3)\n",
    "neighbor.fit(X_train,y_train)\n",
    "\n",
    "predicted = neighbor.predict(X_test)\n",
    "print(\"number of incorrect predictions = \", sum(~(predicted == y_predict_k3))) #detect if there's a wrong prediction\n",
    "print(\"precision = %.4f\" % precision_score(y_test, predicted, average='macro'))\n",
    "print(\"recall = %.4f\" % recall_score(y_test, predicted, average='macro'))\n",
    "print(\"accuracy = %.4f\" % accuracy_score(y_test, predicted))"
   ]
  },
  {
   "cell_type": "markdown",
   "metadata": {},
   "source": [
    "###### Case3: k=5"
   ]
  },
  {
   "cell_type": "code",
   "execution_count": 30,
   "metadata": {},
   "outputs": [
    {
     "name": "stdout",
     "output_type": "stream",
     "text": [
      "number of incorrect predictions =  0\n",
      "precision = 0.9508\n",
      "recall = 0.9508\n",
      "accuracy = 0.9556\n"
     ]
    }
   ],
   "source": [
    "neighbor = KNeighborsClassifier(n_neighbors = 5)\n",
    "neighbor.fit(X_train,y_train)\n",
    "\n",
    "predicted = neighbor.predict(X_test)\n",
    "print(\"number of incorrect predictions = \", sum(~(predicted == y_predict_k5))) #detect if there's a wrong prediction\n",
    "print(\"precision = %.4f\" % precision_score(y_test, predicted, average='macro'))\n",
    "print(\"recall = %.4f\" % recall_score(y_test, predicted, average='macro'))\n",
    "print(\"accuracy = %.4f\" % accuracy_score(y_test, predicted))"
   ]
  },
  {
   "cell_type": "markdown",
   "metadata": {},
   "source": [
    "###### Case4: k=10"
   ]
  },
  {
   "cell_type": "code",
   "execution_count": 31,
   "metadata": {},
   "outputs": [
    {
     "name": "stdout",
     "output_type": "stream",
     "text": [
      "number of incorrect predictions =  0\n",
      "precision = 0.9848\n",
      "recall = 0.9667\n",
      "accuracy = 0.9778\n"
     ]
    }
   ],
   "source": [
    "neighbor = KNeighborsClassifier(n_neighbors = 10)\n",
    "neighbor.fit(X_train,y_train)\n",
    "\n",
    "predicted = neighbor.predict(X_test)\n",
    "print(\"number of incorrect predictions = \", sum(~(predicted == y_predict_k10))) #detect if there's a wrong prediction\n",
    "print(\"precision = %.4f\" % precision_score(y_test, predicted, average='macro'))\n",
    "print(\"recall = %.4f\" % recall_score(y_test, predicted, average='macro'))\n",
    "print(\"accuracy = %.4f\" % accuracy_score(y_test, predicted))"
   ]
  },
  {
   "cell_type": "markdown",
   "metadata": {},
   "source": [
    "###### The results of both ways are matched"
   ]
  }
 ],
 "metadata": {
  "kernelspec": {
   "display_name": "Python 3",
   "language": "python",
   "name": "python3"
  },
  "language_info": {
   "codemirror_mode": {
    "name": "ipython",
    "version": 3
   },
   "file_extension": ".py",
   "mimetype": "text/x-python",
   "name": "python",
   "nbconvert_exporter": "python",
   "pygments_lexer": "ipython3",
   "version": "3.7.6"
  }
 },
 "nbformat": 4,
 "nbformat_minor": 4
}
